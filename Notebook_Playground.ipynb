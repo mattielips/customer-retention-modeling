{
 "cells": [
  {
   "cell_type": "code",
   "execution_count": null,
   "metadata": {},
   "outputs": [],
   "source": [
    "import pandas as pd\n",
    "pd.set_option('display.max_columns', None) # to display all columns\n",
    "import seaborn as sns\n",
    "import numpy as np\n",
    "import warnings\n",
    "warnings.filterwarnings('ignore')\n",
    "import matplotlib.pyplot as plt\n",
    "%matplotlib inline\n",
    "from sklearn.model_selection import train_test_split\n",
    "from sklearn.linear_model import LogisticRegression\n",
    "from sklearn.tree import DecisionTreeClassifier \n",
    "from sklearn.metrics import accuracy_score, roc_curve, auc, precision_score, recall_score, f1_score\n",
    "from sklearn import preprocessing\n",
    "from imblearn.over_sampling import SMOTE\n",
    "from sklearn import tree\n",
    "from sklearn.metrics import plot_confusion_matrix"
   ]
  },
  {
   "cell_type": "code",
   "execution_count": null,
   "metadata": {
    "scrolled": false
   },
   "outputs": [],
   "source": [
    "df = pd.read_csv('data/WA_Fn-UseC_-Telco-Customer-Churn.csv')"
   ]
  },
  {
   "cell_type": "code",
   "execution_count": null,
   "metadata": {},
   "outputs": [],
   "source": [
    "df.head()"
   ]
  },
  {
   "cell_type": "code",
   "execution_count": null,
   "metadata": {},
   "outputs": [],
   "source": [
    "df.shape"
   ]
  },
  {
   "cell_type": "code",
   "execution_count": null,
   "metadata": {
    "scrolled": true
   },
   "outputs": [],
   "source": [
    "df.info()"
   ]
  },
  {
   "cell_type": "code",
   "execution_count": null,
   "metadata": {},
   "outputs": [],
   "source": [
    "df.describe()"
   ]
  },
  {
   "cell_type": "markdown",
   "metadata": {},
   "source": [
    "#### Key Takeaways:\n",
    "###### SeniorCitizens column is marked as an integer. one of the only binary classification rows to be marked as such.\n",
    "###### TotalCharges is marked as a 'non-null object' and should be a float64"
   ]
  },
  {
   "cell_type": "code",
   "execution_count": null,
   "metadata": {},
   "outputs": [],
   "source": [
    "# having an understanding for how datatypes are printed\n",
    "print(df['PaymentMethod'].dtype)\n",
    "print(df['MonthlyCharges'].dtype)\n",
    "print(df['SeniorCitizen'].dtype)"
   ]
  },
  {
   "cell_type": "code",
   "execution_count": null,
   "metadata": {},
   "outputs": [],
   "source": [
    "def preliminary_research(df):\n",
    "    for col in df.columns:\n",
    "        unique_vals = df[col].unique()\n",
    "        if len(unique_vals) < 10:\n",
    "            print(\"Unique values for column {}: {}\".format(col, unique_vals))\n",
    "        else:\n",
    "            if df[col].dtype == 'object':\n",
    "                print(\"column {} has values string type\".format(col))\n",
    "            elif df[col].dtype == 'int64':\n",
    "                print(\"column {} is numerical\".format(col))\n",
    "            elif df[col].dtype == 'float64':\n",
    "                print(\"column {} is numerical\".format(col))"
   ]
  },
  {
   "cell_type": "code",
   "execution_count": null,
   "metadata": {
    "scrolled": false
   },
   "outputs": [],
   "source": [
    "preliminary_research(df)"
   ]
  },
  {
   "cell_type": "code",
   "execution_count": null,
   "metadata": {},
   "outputs": [],
   "source": [
    "# Looking into TotalCharges, which has a value string type for some strange reason\n",
    "df['TotalCharges'].describe()"
   ]
  },
  {
   "cell_type": "markdown",
   "metadata": {},
   "source": [
    "## A Breakdown of the Columns\n",
    "\n",
    "##### 'CustomerID'\n",
    "* ID numbers which have no impact on churn\n",
    "\n",
    "##### 'Gender' is binary\n",
    "* Male\n",
    "* Female\n",
    "\n",
    "##### 'SeniorCitizen' is binary\n",
    "* 0 - no\n",
    "* 1 - yes\n",
    "\n",
    "##### 'Partner' is binary\n",
    "* Yes - customer has a partner\n",
    "* No - customer do not have a partner\n",
    "\n",
    "##### 'Dependents' is binary\n",
    "* Yes - customer has dependent(s)\n",
    "* No - customer does not have dependents\n",
    "\n",
    "##### 'Tenure' is numerical\n",
    "* Represents how long the customer has been using the service\n",
    "\n",
    "##### 'PhoneService' is binary\n",
    "* Yes - customer has phone service with company\n",
    "* no - customer do not have phone service with company\n",
    "\n",
    "##### 'MultipleLines' is categorical\n",
    "* Yes - customer has multiple line subscriptions\n",
    "* No - customer has only 1 line subscription\n",
    "* No phone service - customer do not have phone service with company\n",
    "\n",
    "##### 'InternetService' is categorical\n",
    "* DSL\n",
    "* Fiber optic\n",
    "* No - customer do not have internet service with company\n",
    "\n",
    "##### 'OnlineSecurity' is categorical\n",
    "* Yes - customer has online security with company\n",
    "* No - customer do not have online security with company\n",
    "* No internet service - customer do not have internet service with company\n",
    "\n",
    "##### 'OnlineBackup' is categorical\n",
    "* Yes - customer has online backup with company\n",
    "* No - customer do not have online backup with company\n",
    "* No internet service - customer do not have internet service with company\n",
    "\n",
    "##### 'DeviceProtection' is categorical\n",
    "* Yes - customer has device protection with company\n",
    "* No - customer do not have device protection with company\n",
    "* No internet service - customer do not have internet service with company\n",
    "\n",
    "##### 'TechSupport' is categorical\n",
    "* Yes - customer has technical support with company\n",
    "* No - customer do not have technical support with company\n",
    "* No internet service - customer do not have internet service with company\n",
    "\n",
    "##### 'StreamingTV' is categorical\n",
    "* Yes - customer has streaming TV service with company\n",
    "* No - customer do not have streaming TV service with company\n",
    "* No internet service - customer do not have internet service with company\n",
    "\n",
    "##### 'StreamingMovies' is categorical\n",
    "* Yes - customer has streaming movies service with company\n",
    "* No - customer do not have streaming movies with company\n",
    "* No internet service - customer do not have internet service with company\n",
    "\n",
    "##### 'Contract' is categorical\n",
    "* Month-to-month - customer is on a no-commitment plan\n",
    "* One year - customer is on a 1-year contract commitment\n",
    "* Two year - customer is on a 2-year contract commitment\n",
    "\n",
    "##### 'PaperlessBilling' is binary\n",
    "* Yes - only receives bills via email\n",
    "* No - receives letters in mail with bill\n",
    "\n",
    "##### 'PaymentMethod' is categorical \n",
    "* Electronic check\n",
    "* Mailed check \n",
    "* Bank transfer (automatic)\n",
    "* Credit card (automatic)\n",
    "\n",
    "##### 'MonthlyCharges' is numerical\n",
    "* count    7043.000000\n",
    "* mean       64.761692\n",
    "* std        30.090047\n",
    "* min        18.250000\n",
    "* 25%        35.500000\n",
    "* 50%        70.350000\n",
    "* 75%        89.850000\n",
    "* max       118.750000\n",
    "\n",
    "##### 'TotalCharges' -- NEEDS ATTENTION\n",
    "* Says that dtype is a string. However, this should be numerical...\n",
    "\n",
    "##### 'Churn' is binary\n",
    "* No - customer is still an active customer\n",
    "* Yes - customer has left service"
   ]
  },
  {
   "cell_type": "markdown",
   "metadata": {},
   "source": [
    "## Work that is cut out for me in the cleaning process:\n",
    "1. change column names to all lowercase and no spaces\n",
    "2. convert all \"yes / no\" binary options to numerical 0s and 1s\n",
    "3. convert df['totalcharges'] values from objects to a floats\n",
    "4. drop the 'customerid' column"
   ]
  },
  {
   "cell_type": "code",
   "execution_count": null,
   "metadata": {},
   "outputs": [],
   "source": [
    "# change column names to all lowercase\n",
    "df.columns = map(str.lower, df.columns)"
   ]
  },
  {
   "cell_type": "code",
   "execution_count": null,
   "metadata": {},
   "outputs": [],
   "source": [
    "# convert \"No / Yes\" binary options to numerical 0s and 1s\n",
    "df.gender = df.gender.map({'Male':0 ,'Female':1})\n",
    "df.partner = df.partner.map({'No':0 ,'Yes':1})\n",
    "df.dependents = df.dependents.map({'No':0 ,'Yes':1})\n",
    "df.phoneservice = df.phoneservice.map({'No':0 ,'Yes':1})\n",
    "df.paperlessbilling = df.paperlessbilling.map({'No':0 ,'Yes':1})\n",
    "df.churn = df.churn.map({'No':0, 'Yes':1})\n",
    "\n",
    "# convert the categorical variables that have numeric significance into numerical\n",
    "df.multiplelines = df.multiplelines.map({'No phone service':0, 'No':1, 'Yes':2})\n",
    "df.contract = df.contract.map({'Month-to-month':0, 'One year':1, 'Two year':2})"
   ]
  },
  {
   "cell_type": "code",
   "execution_count": null,
   "metadata": {
    "scrolled": true
   },
   "outputs": [],
   "source": [
    "# create dummy variables\n",
    "df = pd.get_dummies(df, drop_first=True, dtype=int)"
   ]
  },
  {
   "cell_type": "code",
   "execution_count": null,
   "metadata": {},
   "outputs": [],
   "source": [
    "df.head()"
   ]
  },
  {
   "cell_type": "code",
   "execution_count": null,
   "metadata": {},
   "outputs": [],
   "source": [
    "# convert \"No / Yes\" binary options to numerical 0s and 1s\n",
    "binary_columns = ['partner', 'dependents', 'phoneservice', 'paperlessbilling', 'churn']\n",
    "df[binary_columns] = df[binary_columns].eq('Yes').mul(1)"
   ]
  },
  {
   "cell_type": "code",
   "execution_count": null,
   "metadata": {},
   "outputs": [],
   "source": [
    "# convert \"Male / Female\" binary options to numerical 0s and 1s\n",
    "df['gender'] = df['gender'].eq('Female').mul(1)"
   ]
  },
  {
   "cell_type": "code",
   "execution_count": null,
   "metadata": {},
   "outputs": [],
   "source": [
    "# THIS INTENTIALLY PRODUCES AN ERROR CODE TO DEMONSTRATE MY THOUGHT PROCESS\n",
    "# convert df['totalcharges'] values from objects to a floats\n",
    "df['totalcharges'] = df.totalcharges.astype(float)"
   ]
  },
  {
   "cell_type": "markdown",
   "metadata": {},
   "source": [
    "> Notes: Unable to convert to a float. This could be because there are null values. Let's check."
   ]
  },
  {
   "cell_type": "code",
   "execution_count": null,
   "metadata": {},
   "outputs": [],
   "source": [
    "df['totalcharges'].isnull().values.any()"
   ]
  },
  {
   "cell_type": "markdown",
   "metadata": {},
   "source": [
    "> Notes: Strange. There appear to be none. Let's check if there are any \"blank\" values."
   ]
  },
  {
   "cell_type": "code",
   "execution_count": null,
   "metadata": {
    "scrolled": true
   },
   "outputs": [],
   "source": [
    "print(sum(df.totalcharges == ' '))"
   ]
  },
  {
   "cell_type": "markdown",
   "metadata": {},
   "source": [
    "> Notes: There appear to be 11 blank values. Let's replace them for NaN and then convert column to dtype float."
   ]
  },
  {
   "cell_type": "code",
   "execution_count": null,
   "metadata": {},
   "outputs": [],
   "source": [
    "df['totalcharges'] = df['totalcharges'].replace(' ', np.nan, regex=True) # replaces blank to NaN\n",
    "df['totalcharges'] = df.totalcharges.astype(float) # converts to float"
   ]
  },
  {
   "cell_type": "markdown",
   "metadata": {},
   "source": [
    "> Notes: Regardless, let's drop the 11 rows. Will have very little statistical significance on the model to drop 11 rows out of 7k+ rows and will make processing and modeling substatially easier."
   ]
  },
  {
   "cell_type": "code",
   "execution_count": null,
   "metadata": {},
   "outputs": [],
   "source": [
    "df = df.dropna()"
   ]
  },
  {
   "cell_type": "code",
   "execution_count": null,
   "metadata": {},
   "outputs": [],
   "source": [
    "# drop 'customerid' column.\n",
    "df = df.drop(columns = 'customerid')"
   ]
  },
  {
   "cell_type": "markdown",
   "metadata": {},
   "source": [
    "## Run a vanilla model based upon the information given. Use that as a benchmark.\n"
   ]
  },
  {
   "cell_type": "code",
   "execution_count": null,
   "metadata": {},
   "outputs": [],
   "source": [
    "# convert all categorical string variables into numerical values using LabelEncoder()\n",
    "categorical_strings_columns = ['multiplelines', 'internetservice', 'onlinesecurity',\n",
    "                               'onlinebackup', 'deviceprotection', 'techsupport',\n",
    "                               'streamingtv', 'streamingmovies', 'contract', 'paymentmethod']\n",
    "\n",
    "def labelencoder_conversion(df):\n",
    "    le = preprocessing.LabelEncoder()\n",
    "    for col in df[categorical_strings_columns]:\n",
    "        df[col] = le.fit_transform(df[col].values)\n",
    "    return print('Columns with dtype objects have successfully been encoded as integers.')\n",
    "\n",
    "labelencoder_conversion(df)"
   ]
  },
  {
   "cell_type": "code",
   "execution_count": null,
   "metadata": {},
   "outputs": [],
   "source": [
    "df.info()"
   ]
  },
  {
   "cell_type": "code",
   "execution_count": null,
   "metadata": {},
   "outputs": [],
   "source": [
    "# Create features and labels\n",
    "X = df.drop('churn', axis=1)  \n",
    "y = df['churn'] "
   ]
  },
  {
   "cell_type": "code",
   "execution_count": null,
   "metadata": {},
   "outputs": [],
   "source": [
    "# Perform an train_test_split\n",
    "X_train, X_test, y_train, y_test = train_test_split(X, y, test_size=0.2, random_state=0)"
   ]
  },
  {
   "cell_type": "code",
   "execution_count": null,
   "metadata": {},
   "outputs": [],
   "source": [
    "# Instantiate\n",
    "logreg = LogisticRegression(fit_intercept=False, C=1e12, solver='liblinear')\n",
    "\n",
    "# Fit the model to training data\n",
    "model_log = logreg.fit(X_train, y_train)\n",
    "\n",
    "# Predict on test set\n",
    "y_hat_test = logreg.predict(X_test)"
   ]
  },
  {
   "cell_type": "code",
   "execution_count": null,
   "metadata": {},
   "outputs": [],
   "source": [
    "# Calculate the probability scores of each point in the training set\n",
    "y_train_score = model_log.decision_function(X_train)\n",
    "\n",
    "# Calculate the fpr, tpr, and thresholds for the training set\n",
    "train_fpr, train_tpr, thresholds = roc_curve(y_train, y_train_score)\n",
    "\n",
    "# Calculate the probability scores of each point in the test set\n",
    "y_test_score = model_log.decision_function(X_test)\n",
    "\n",
    "# Calculate the fpr, tpr, and thresholds for the test set\n",
    "test_fpr, test_tpr, test_thresholds = roc_curve(y_test, y_test_score)"
   ]
  },
  {
   "cell_type": "code",
   "execution_count": null,
   "metadata": {
    "scrolled": true
   },
   "outputs": [],
   "source": [
    "# Make predictions for test data\n",
    "y_pred_test = logreg.predict(X_test)\n",
    "y_pred_train = logreg.predict(X_train)\n",
    "\n",
    "print('Training Precision: ', precision_score(y_train, y_pred_train))\n",
    "print('Testing Precision: ', precision_score(y_test, y_pred_test))\n",
    "print('\\n\\n')\n",
    "\n",
    "print('Training Recall: ', recall_score(y_train, y_pred_train))\n",
    "print('Testing Recall: ', recall_score(y_test, y_pred_test))\n",
    "print('\\n\\n')\n",
    "\n",
    "print('Training Accuracy: ', accuracy_score(y_train, y_pred_train))\n",
    "print('Testing Accuracy: ', accuracy_score(y_test, y_pred_test))\n",
    "print('\\n\\n')\n",
    "\n",
    "print('Training F1-Score: ', f1_score(y_train, y_pred_train))\n",
    "print('Testing F1-Score: ', f1_score(y_test, y_pred_test))\n",
    "\n",
    "# Check the AUC for predictions\n",
    "false_positive_rate, true_positive_rate, thresholds = roc_curve(y_test, y_pred_test)\n",
    "roc_auc = auc(false_positive_rate, true_positive_rate)\n",
    "print('\\nAUC is :{0}'.format(round(roc_auc, 2)))\n",
    "\n",
    "# Create and print a confusion matrix \n",
    "print('\\nConfusion Matrix')\n",
    "print('----------------')\n",
    "pd.crosstab(y_test, y_pred_test, rownames=['True'], colnames=['Predicted'], margins=True)"
   ]
  },
  {
   "cell_type": "code",
   "execution_count": null,
   "metadata": {
    "scrolled": true
   },
   "outputs": [],
   "source": [
    "plot_confusion_matrix(logreg, X, y, values_format='.4g')\n",
    "plt.grid(False)\n",
    "plt.show()"
   ]
  },
  {
   "cell_type": "code",
   "execution_count": null,
   "metadata": {},
   "outputs": [],
   "source": [
    "sns.set_style('darkgrid', {'axes.facecolor': '0.9'}) #seaborn styling\n",
    "\n",
    "print('AUC: {}'.format(auc(train_fpr, train_tpr)))\n",
    "plt.figure(figsize=(10, 8))\n",
    "lw = 2\n",
    "plt.plot(train_fpr, train_tpr, color='darkorange',\n",
    "         lw=lw, label='ROC curve for the trained data')\n",
    "plt.plot(test_fpr, test_tpr, color='red',\n",
    "         lw=lw, label='ROC curve for the test data')\n",
    "plt.plot([0, 1], [0, 1], color='navy', lw=lw, linestyle='--')\n",
    "plt.xlim([0.0, 1.0])\n",
    "plt.ylim([0.0, 1.05])\n",
    "plt.yticks([i/20.0 for i in range(21)])\n",
    "plt.xticks([i/20.0 for i in range(21)])\n",
    "plt.xlabel('False Positive Rate')\n",
    "plt.ylabel('True Positive Rate')\n",
    "plt.title('Receiver operating characteristic (ROC) Curve')\n",
    "plt.legend(loc='lower right')\n",
    "plt.show()"
   ]
  },
  {
   "cell_type": "markdown",
   "metadata": {},
   "source": [
    "> Notes: Beyond accuracy, I think that it would be beneficial to minimize the instances where the model predicts someone who will not churn, but actually leaves the service [churns].\n",
    "\n",
    "### Goals:\n",
    "* Increase Precision. Reduce Type II errors (i.e. false negatives). We want to be able to identify everyone who will likely churn and prevent them from churning before the action occurs\n",
    "* Simplify the model by reducing features (20 features is a lot imo[?!])\n",
    "\n",
    "### Methods:\n",
    "1. Address class imbalance (SMOTE)\n",
    "2. Simplify the model by identifying and reducing unimportant features (LASSO - least absolute shrinkage and selection operator - L1 Regularization)\n",
    "2. Attempt different types of modeling techniques (KNN, Decision Trees, and Random Forests)"
   ]
  },
  {
   "cell_type": "code",
   "execution_count": null,
   "metadata": {
    "scrolled": true
   },
   "outputs": [],
   "source": [
    "# Class frequency of target variable \n",
    "df['churn'].value_counts()"
   ]
  },
  {
   "cell_type": "code",
   "execution_count": null,
   "metadata": {
    "scrolled": true
   },
   "outputs": [],
   "source": [
    "smote = SMOTE(random_state=0, sampling_strategy=1)\n",
    "X_train_smote, y_train_smote = smote.fit_sample(X_train, y_train) \n",
    "# Preview synthetic sample class distribution\n",
    "print('Synthetic sample class distribution: \\n')\n",
    "print(pd.Series(y_train_smote).value_counts()) "
   ]
  },
  {
   "cell_type": "code",
   "execution_count": null,
   "metadata": {},
   "outputs": [],
   "source": [
    "# Comparing a few different ratios of minority class to majority class\n",
    "ratios = [0.4, 0.5, 0.7, 1]\n",
    "names = ['0.4', '0.5', '0.7','even']\n",
    "colors = sns.color_palette('Set2')\n",
    "\n",
    "plt.figure(figsize=(10, 8))\n",
    "\n",
    "for n, ratio in enumerate(ratios):\n",
    "    # Fit a model\n",
    "    smote = SMOTE(sampling_strategy=ratio)\n",
    "    X_train_smote, y_train_smote = smote.fit_sample(X_train, y_train) \n",
    "    logreg = LogisticRegression(fit_intercept=False, C=1e12, solver ='liblinear')\n",
    "    model_log = logreg.fit(X_train_smote, y_train_smote)\n",
    "    print(model_log)\n",
    "\n",
    "    # Predict\n",
    "    y_hat_test = logreg.predict(X_test)\n",
    "\n",
    "    y_score = logreg.decision_function(X_test)\n",
    "\n",
    "    fpr, tpr, thresholds = roc_curve(y_test, y_score)\n",
    "    \n",
    "    print('AUC for {}: {}'.format(names[n], auc(fpr, tpr)))\n",
    "    print('-------------------------------------------------------------------------------------')\n",
    "    lw = 2\n",
    "    plt.plot(fpr, tpr, color=colors[n],\n",
    "             lw=lw, label='ROC curve {}'.format(names[n]))\n",
    "\n",
    "plt.plot([0, 1], [0, 1], color='navy', lw=lw, linestyle='--')\n",
    "plt.xlim([0.0, 1.0])\n",
    "plt.ylim([0.0, 1.05])\n",
    "\n",
    "plt.yticks([i/20.0 for i in range(21)])\n",
    "plt.xticks([i/20.0 for i in range(21)])\n",
    "plt.xlabel('False Positive Rate')\n",
    "plt.ylabel('True Positive Rate')\n",
    "plt.title('Receiver operating characteristic (ROC) Curve')\n",
    "plt.legend(loc='lower right')\n",
    "plt.show()"
   ]
  },
  {
   "cell_type": "code",
   "execution_count": null,
   "metadata": {},
   "outputs": [],
   "source": [
    "# One-hot encode the training data and show the resulting DataFrame with proper column names\n",
    "# ohe = OneHotEncoder()\n",
    "\n",
    "# ohe.fit(X_train)\n",
    "# X_train_ohe = ohe.transform(X_train).toarray()"
   ]
  },
  {
   "cell_type": "code",
   "execution_count": null,
   "metadata": {},
   "outputs": [],
   "source": [
    "# ohe_df = pd.DataFrame(X_train_ohe, columns=ohe.get_feature_names(X_train.columns))"
   ]
  },
  {
   "cell_type": "code",
   "execution_count": null,
   "metadata": {
    "scrolled": true
   },
   "outputs": [],
   "source": [
    "# Train a DT classifier\n",
    "classifier = DecisionTreeClassifier(random_state=0, max_depth=4)  \n",
    "classifier.fit(X_train, y_train)"
   ]
  },
  {
   "cell_type": "code",
   "execution_count": null,
   "metadata": {
    "scrolled": false
   },
   "outputs": [],
   "source": [
    "fig, axes = plt.subplots(nrows = 1,ncols = 1, figsize = (12,5), dpi=300)\n",
    "tree.plot_tree(classifier, fontsize=3,\n",
    "               feature_names = df.columns, \n",
    "               class_names=np.unique(y).astype('str'),\n",
    "               filled = True)\n",
    "plt.show()"
   ]
  },
  {
   "cell_type": "code",
   "execution_count": null,
   "metadata": {},
   "outputs": [],
   "source": [
    "# y_score = classifier.fit(X_train, y_train).decision_function(X_test)\n",
    "y_score = classifier.predict_proba(X_test)\n",
    "\n",
    "fpr, tpr, thresholds = roc_curve(y_test, y_score)"
   ]
  },
  {
   "cell_type": "markdown",
   "metadata": {},
   "source": [
    "## Visualizing Relationships"
   ]
  },
  {
   "cell_type": "code",
   "execution_count": null,
   "metadata": {},
   "outputs": [],
   "source": [
    "# Looking at the relationship between the total amount of revenue earned and whether or not they churned\n",
    "plot1 = pd.concat([df['totalcharges'], df['churn']], axis=1)\n",
    "f, ax = plt.subplots(figsize=(8, 8))\n",
    "fig = sns.boxplot(x='churn', y='totalcharges', data=plot1)\n",
    "plt.title(\"Total Amount of Revenue Collected vs. Churn\");\n",
    "df.groupby('churn')[['totalcharges']].describe()"
   ]
  },
  {
   "cell_type": "code",
   "execution_count": null,
   "metadata": {},
   "outputs": [],
   "source": [
    "# Looking at the relationship between the monthly bill and whether or not they churned\n",
    "plot1 = pd.concat([df['monthlycharges'], df['churn']], axis=1)\n",
    "f, ax = plt.subplots(figsize=(8, 8))\n",
    "fig = sns.boxplot(x='churn', y='monthlycharges', data=plot1)\n",
    "plt.title(\"Monthly Rate vs. Churn\");\n",
    "df.groupby('churn')[['monthlycharges']].describe()"
   ]
  },
  {
   "cell_type": "markdown",
   "metadata": {},
   "source": [
    "## Looking at class imbalance"
   ]
  },
  {
   "cell_type": "code",
   "execution_count": null,
   "metadata": {
    "scrolled": true
   },
   "outputs": [],
   "source": [
    "#gender: binary, male or female\n",
    "sns.countplot(df['gender']);"
   ]
  },
  {
   "cell_type": "code",
   "execution_count": null,
   "metadata": {
    "scrolled": true
   },
   "outputs": [],
   "source": [
    "#SeniorCitizen: binary, 0 (no) or 1 (yes)\n",
    "sns.countplot(df['seniorcitizen']);\n",
    "# notes this is a class inbalance"
   ]
  },
  {
   "cell_type": "code",
   "execution_count": null,
   "metadata": {
    "scrolled": true
   },
   "outputs": [],
   "source": [
    "sns.countplot(df['partner']);\n",
    "#looks good"
   ]
  },
  {
   "cell_type": "code",
   "execution_count": null,
   "metadata": {
    "scrolled": true
   },
   "outputs": [],
   "source": [
    "sns.countplot(df['dependents']);\n",
    "# class inbalance"
   ]
  },
  {
   "cell_type": "code",
   "execution_count": null,
   "metadata": {
    "scrolled": true
   },
   "outputs": [],
   "source": [
    "sns.distplot(df['tenure']);\n",
    "# data looks relatively good. I am a little bit surprised that the shape\n",
    "# is bimodal. I would have expected the longest tenure to be the least dense"
   ]
  }
 ],
 "metadata": {
  "kernelspec": {
   "display_name": "Python 3",
   "language": "python",
   "name": "python3"
  },
  "language_info": {
   "codemirror_mode": {
    "name": "ipython",
    "version": 3
   },
   "file_extension": ".py",
   "mimetype": "text/x-python",
   "name": "python",
   "nbconvert_exporter": "python",
   "pygments_lexer": "ipython3",
   "version": "3.6.9"
  }
 },
 "nbformat": 4,
 "nbformat_minor": 4
}
